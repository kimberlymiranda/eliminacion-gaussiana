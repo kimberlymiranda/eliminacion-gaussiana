{
  "nbformat": 4,
  "nbformat_minor": 0,
  "metadata": {
    "colab": {
      "provenance": []
    },
    "kernelspec": {
      "name": "python3",
      "display_name": "Python 3"
    },
    "language_info": {
      "name": "python"
    }
  },
  "cells": [
    {
      "cell_type": "code",
      "source": [
        "#   Codigo que implementa el esquema numerico\n",
        "#   del metodo de eliminacion Gaussiana para\n",
        "#   resolver sistemas de ecuaciones\n",
        "#\n",
        "#           Autor:\n",
        "#   kimbrly milagros miranda rosel\n",
        "#   kimberlymiranda080805@gmail.com\n",
        "#   Version 2.0 : 18/02/2025\n",
        "#\n",
        "\n",
        "import numpy as np\n",
        "\n",
        "def gauss_elimination(A, b):\n",
        "    n = len(b)\n",
        "    for i in range(n):\n",
        "        # Pivoteo parcial\n",
        "        max_row = i + np.argmax(np.abs(A[i:, i]))\n",
        "        if max_row != i:\n",
        "            A[[i, max_row]] = A[[max_row, i]]\n",
        "            b[[i, max_row]] = b[[max_row, i]]\n",
        "\n",
        "        # Eliminación hacia adelante\n",
        "        for j in range(i+1, n):\n",
        "            factor = A[j][i] / A[i][i]\n",
        "            A[j, i:] -= factor * A[i, i:]\n",
        "            b[j] -= factor * b[i]\n",
        "\n",
        "    # Sustitución regresiva\n",
        "    x = np.zeros(n)\n",
        "    for i in range(n-1, -1, -1):\n",
        "        x[i] = (b[i] - np.dot(A[i, i+1:], x[i+1:])) / A[i, i]\n",
        "    return x\n",
        "\n",
        "# Definición del sistema de ecuaciones\n",
        "# La matriz A se incluye por renglones\n",
        "# El vector b se incluye por columnas\n",
        "A = np.array([[3, 2, -1, 4],\n",
        "              [5, -3, 2, -1],\n",
        "              [-1, 4, -2, 3],\n",
        "              [2, -1, 3, 5]], dtype=float)\n",
        "\n",
        "b = np.array([10, 5, -3, 8], dtype=float)\n",
        "\n",
        "# Resolución del sistema\n",
        "sol = gauss_elimination(A, b)\n",
        "\n",
        "# Imprimir la solución\n",
        "print(\"Solución del sistema:\")\n",
        "print(sol)\n"
      ],
      "metadata": {
        "colab": {
          "base_uri": "https://localhost:8080/"
        },
        "id": "7qcVzdR3kepW",
        "outputId": "95728f7f-0948-4b18-cec6-ed6d02ecae3b"
      },
      "execution_count": 2,
      "outputs": [
        {
          "output_type": "stream",
          "name": "stdout",
          "text": [
            "Solución del sistema:\n",
            "[ 0.22340426 -7.46808511 -7.11702128  4.28723404]\n"
          ]
        }
      ]
    },
    {
      "cell_type": "code",
      "source": [
        "#   Codigo que implementa el esquema numerico\n",
        "#   del metodo de eliminacion Gaussiana para\n",
        "#   resolver sistemas de ecuaciones\n",
        "#\n",
        "#           Autor:\n",
        "#   kimbrly milagros miranda rosel\n",
        "#   kimberlymiranda080805@gmail.com\n",
        "#   Version 2.0 : 18/02/2025\n",
        "#\n",
        "\n",
        "import numpy as np\n",
        "\n",
        "def gauss_elimination(A, b):\n",
        "    n = len(b)\n",
        "    for i in range(n):\n",
        "        # Pivoteo parcial\n",
        "        max_row = i + np.argmax(np.abs(A[i:, i]))\n",
        "        if max_row != i:\n",
        "            A[[i, max_row]] = A[[max_row, i]]\n",
        "            b[[i, max_row]] = b[[max_row, i]]\n",
        "\n",
        "        # Eliminación hacia adelante\n",
        "        for j in range(i+1, n):\n",
        "            factor = A[j][i] / A[i][i]\n",
        "            A[j, i:] -= factor * A[i, i:]\n",
        "            b[j] -= factor * b[i]\n",
        "\n",
        "    # Sustitución regresiva\n",
        "    x = np.zeros(n)\n",
        "    for i in range(n-1, -1, -1):\n",
        "        x[i] = (b[i] - np.dot(A[i, i+1:], x[i+1:])) / A[i, i]\n",
        "    return x\n",
        "\n",
        "# Definición del sistema de ecuaciones\n",
        "# La matriz A se incluye por renglones\n",
        "# El vector b se incluye por columnas\n",
        "A = np.array([[6, -2, 3, -1, 2],\n",
        "              [-3, 5, -2, 4, -1],\n",
        "              [4, 3, 7, -5, 3],\n",
        "              [-2, 6, -3, 1, -4],\n",
        "              [1, -3, 2, -5, 6]], dtype=float)\n",
        "\n",
        "b = np.array([15, -6, 20, -4, 7], dtype=float)\n",
        "\n",
        "# Resolución del sistema\n",
        "sol = gauss_elimination(A, b)\n",
        "\n",
        "# Imprimir la solución\n",
        "print(\"Solución del sistema:\")\n",
        "print(sol)\n"
      ],
      "metadata": {
        "colab": {
          "base_uri": "https://localhost:8080/"
        },
        "id": "YsUj9VIPlfKS",
        "outputId": "5da7cc43-2477-4701-c758-9fa7601b4e38"
      },
      "execution_count": 3,
      "outputs": [
        {
          "output_type": "stream",
          "name": "stdout",
          "text": [
            "Solución del sistema:\n",
            "[ 2.19256308  0.87317397  0.61553785 -0.4814077   0.6314741 ]\n"
          ]
        }
      ]
    },
    {
      "cell_type": "code",
      "source": [
        "#   Codigo que implementa el esquema numerico\n",
        "#   del metodo de eliminacion Gaussiana para\n",
        "#   resolver sistemas de ecuaciones\n",
        "#\n",
        "#           Autor:\n",
        "#   kimbrly milagros miranda rosel\n",
        "#   kimberlymiranda080805@gmail.com\n",
        "#   Version 2.0 : 18/02/2025\n",
        "#\n",
        "\n",
        "import numpy as np\n",
        "\n",
        "def gauss_elimination(A, b):\n",
        "    n = len(b)\n",
        "    for i in range(n):\n",
        "        # Pivoteo parcial\n",
        "        max_row = i + np.argmax(np.abs(A[i:, i]))\n",
        "        if max_row != i:\n",
        "            A[[i, max_row]] = A[[max_row, i]]\n",
        "            b[[i, max_row]] = b[[max_row, i]]\n",
        "\n",
        "        # Eliminación hacia adelante\n",
        "        for j in range(i+1, n):\n",
        "            factor = A[j][i] / A[i][i]\n",
        "            A[j, i:] -= factor * A[i, i:]\n",
        "            b[j] -= factor * b[i]\n",
        "\n",
        "    # Sustitución regresiva\n",
        "    x = np.zeros(n)\n",
        "    for i in range(n-1, -1, -1):\n",
        "        x[i] = (b[i] - np.dot(A[i, i+1:], x[i+1:])) / A[i, i]\n",
        "    return x\n",
        "\n",
        "# Definición del sistema de ecuaciones\n",
        "# La matriz A se incluye por renglones\n",
        "# El vector b se incluye por columnas\n",
        "A = np.array([[1,2,-3,4,-1,1],\n",
        "              [-2,3,5,-1,2,-1],\n",
        "              [4,-1,2,6,-3,1],\n",
        "              [-3,5,-1,2,4,-1],\n",
        "              [2,-4,6,-5,1,3],\n",
        "              [-5,1,4,-1,2,-6]], dtype=float)\n",
        "\n",
        "b = np.array([7,-2,10,3,-8,5], dtype=float)\n",
        "\n",
        "# Resolución del sistema\n",
        "sol = gauss_elimination(A, b)\n",
        "\n",
        "# Imprimir la solución\n",
        "print(\"Solución del sistema:\")\n",
        "print(sol)\n"
      ],
      "metadata": {
        "colab": {
          "base_uri": "https://localhost:8080/"
        },
        "id": "q-If8CGQmG51",
        "outputId": "6cb9427b-2a3c-49e0-dc8c-b35f3aea7dc2"
      },
      "execution_count": 4,
      "outputs": [
        {
          "output_type": "stream",
          "name": "stdout",
          "text": [
            "Solución del sistema:\n",
            "[-8.45521993 -3.34287228  0.97615262  4.50874404 -2.21939587  4.81505034]\n"
          ]
        }
      ]
    }
  ]
}